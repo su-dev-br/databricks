{
 "cells": [
  {
   "cell_type": "code",
   "execution_count": null,
   "metadata": {},
   "outputs": [],
   "source": [
    "-- Databricks notebook source"
   ]
  },
  {
   "cell_type": "code",
   "execution_count": 0,
   "metadata": {
    "application/vnd.databricks.v1+cell": {
     "cellMetadata": {
      "byteLimit": 2048000,
      "rowLimit": 10000
     },
     "inputWidgets": {},
     "nuid": "33b82eb7-d6df-49df-9b13-c29fd8bbbadd",
     "showTitle": true,
     "tableResultSettingsMap": {},
     "title": "accounts"
    }
   },
   "outputs": [],
   "source": [
    "CREATE TABLE IF NOT EXISTS dev.raw.accounts (\n",
    "    account_id INT,\n",
    "    account_name STRING,\n",
    "    balance DECIMAL(10, 2)\n",
    ");"
   ]
  },
  {
   "cell_type": "code",
   "execution_count": 0,
   "metadata": {
    "application/vnd.databricks.v1+cell": {
     "cellMetadata": {
      "byteLimit": 2048000,
      "rowLimit": 10000
     },
     "inputWidgets": {},
     "nuid": "9a37ce27-0f5a-4642-9547-b80f9f3c2bf2",
     "showTitle": false,
     "tableResultSettingsMap": {},
     "title": ""
    }
   },
   "outputs": [
    {
     "data": {
      "text/html": [
       "<style scoped>\n",
       "  .table-result-container {\n",
       "    max-height: 300px;\n",
       "    overflow: auto;\n",
       "  }\n",
       "  table, th, td {\n",
       "    border: 1px solid black;\n",
       "    border-collapse: collapse;\n",
       "  }\n",
       "  th, td {\n",
       "    padding: 5px;\n",
       "  }\n",
       "  th {\n",
       "    text-align: left;\n",
       "  }\n",
       "</style><div class='table-result-container'><table class='table-result'><thead style='background-color: white'><tr><th>num_affected_rows</th><th>num_inserted_rows</th></tr></thead><tbody><tr><td>10</td><td>10</td></tr></tbody></table></div>"
      ]
     },
     "metadata": {
      "application/vnd.databricks.v1+output": {
       "addedWidgets": {},
       "aggData": [],
       "aggError": "",
       "aggOverflow": false,
       "aggSchema": [],
       "aggSeriesLimitReached": false,
       "aggType": "",
       "arguments": {},
       "columnCustomDisplayInfos": {},
       "data": [
        [
         10,
         10
        ]
       ],
       "datasetInfos": [
        {
         "name": "_sqldf",
         "schema": {
          "fields": [
           {
            "metadata": {},
            "name": "num_affected_rows",
            "nullable": true,
            "type": "long"
           },
           {
            "metadata": {},
            "name": "num_inserted_rows",
            "nullable": true,
            "type": "long"
           }
          ],
          "type": "struct"
         },
         "tableIdentifier": null,
         "typeStr": "pyspark.sql.connect.dataframe.DataFrame"
        }
       ],
       "dbfsResultPath": null,
       "isJsonSchema": true,
       "metadata": {
        "createTempViewForImplicitDf": true,
        "dataframeName": "_sqldf",
        "executionCount": 15
       },
       "overflow": false,
       "plotOptions": {
        "customPlotOptions": {},
        "displayType": "table",
        "pivotAggregation": null,
        "pivotColumns": null,
        "xColumns": null,
        "yColumns": null
       },
       "removedWidgets": [],
       "schema": [
        {
         "metadata": "{}",
         "name": "num_affected_rows",
         "type": "\"long\""
        },
        {
         "metadata": "{}",
         "name": "num_inserted_rows",
         "type": "\"long\""
        }
       ],
       "type": "table"
      }
     },
     "output_type": "display_data"
    }
   ],
   "source": [
    "INSERT INTO dev.raw.accounts VALUES\n",
    "(1, concat('Account ', cast(rand()*100 as int)), rand()*1000),\n",
    "(2, concat('Account ', cast(rand()*100 as int)), rand()*1000)"
   ]
  },
  {
   "cell_type": "code",
   "execution_count": 0,
   "metadata": {
    "application/vnd.databricks.v1+cell": {
     "cellMetadata": {
      "byteLimit": 2048000,
      "rowLimit": 10000
     },
     "inputWidgets": {},
     "nuid": "f50e379c-64f0-4a8f-bcc4-ebc1f80f43ad",
     "showTitle": false,
     "tableResultSettingsMap": {},
     "title": ""
    }
   },
   "outputs": [
    {
     "data": {
      "text/html": [
       "<style scoped>\n",
       "  .table-result-container {\n",
       "    max-height: 300px;\n",
       "    overflow: auto;\n",
       "  }\n",
       "  table, th, td {\n",
       "    border: 1px solid black;\n",
       "    border-collapse: collapse;\n",
       "  }\n",
       "  th, td {\n",
       "    padding: 5px;\n",
       "  }\n",
       "  th {\n",
       "    text-align: left;\n",
       "  }\n",
       "</style><div class='table-result-container'><table class='table-result'><thead style='background-color: white'><tr><th>account_id</th><th>account_name</th><th>balance</th></tr></thead><tbody><tr><td>1</td><td>Account A</td><td>1000.00</td></tr><tr><td>2</td><td>Account B</td><td>1500.00</td></tr><tr><td>3</td><td>Account C</td><td>2000.00</td></tr><tr><td>4</td><td>Account D</td><td>2500.00</td></tr><tr><td>5</td><td>Account E</td><td>3000.00</td></tr><tr><td>6</td><td>Account F</td><td>3500.00</td></tr><tr><td>7</td><td>Account G</td><td>4000.00</td></tr><tr><td>8</td><td>Account H</td><td>4500.00</td></tr><tr><td>9</td><td>Account I</td><td>5000.00</td></tr><tr><td>10</td><td>Account J</td><td>5500.00</td></tr></tbody></table></div>"
      ]
     },
     "metadata": {
      "application/vnd.databricks.v1+output": {
       "addedWidgets": {},
       "aggData": [],
       "aggError": "",
       "aggOverflow": false,
       "aggSchema": [],
       "aggSeriesLimitReached": false,
       "aggType": "",
       "arguments": {},
       "columnCustomDisplayInfos": {},
       "data": [
        [
         1,
         "Account A",
         "1000.00"
        ],
        [
         2,
         "Account B",
         "1500.00"
        ],
        [
         3,
         "Account C",
         "2000.00"
        ],
        [
         4,
         "Account D",
         "2500.00"
        ],
        [
         5,
         "Account E",
         "3000.00"
        ],
        [
         6,
         "Account F",
         "3500.00"
        ],
        [
         7,
         "Account G",
         "4000.00"
        ],
        [
         8,
         "Account H",
         "4500.00"
        ],
        [
         9,
         "Account I",
         "5000.00"
        ],
        [
         10,
         "Account J",
         "5500.00"
        ]
       ],
       "datasetInfos": [
        {
         "name": "_sqldf",
         "schema": {
          "fields": [
           {
            "metadata": {},
            "name": "account_id",
            "nullable": true,
            "type": "integer"
           },
           {
            "metadata": {},
            "name": "account_name",
            "nullable": true,
            "type": "string"
           },
           {
            "metadata": {},
            "name": "balance",
            "nullable": true,
            "type": "decimal(10,2)"
           }
          ],
          "type": "struct"
         },
         "tableIdentifier": null,
         "typeStr": "pyspark.sql.connect.dataframe.DataFrame"
        }
       ],
       "dbfsResultPath": null,
       "isJsonSchema": true,
       "metadata": {
        "createTempViewForImplicitDf": true,
        "dataframeName": "_sqldf",
        "executionCount": 24
       },
       "overflow": false,
       "plotOptions": {
        "customPlotOptions": {},
        "displayType": "table",
        "pivotAggregation": null,
        "pivotColumns": null,
        "xColumns": null,
        "yColumns": null
       },
       "removedWidgets": [],
       "schema": [
        {
         "metadata": "{}",
         "name": "account_id",
         "type": "\"integer\""
        },
        {
         "metadata": "{}",
         "name": "account_name",
         "type": "\"string\""
        },
        {
         "metadata": "{}",
         "name": "balance",
         "type": "\"decimal(10,2)\""
        }
       ],
       "type": "table"
      }
     },
     "output_type": "display_data"
    }
   ],
   "source": [
    "select count(1) from dev.raw.accounts"
   ]
  },
  {
   "cell_type": "code",
   "execution_count": 0,
   "metadata": {
    "application/vnd.databricks.v1+cell": {
     "cellMetadata": {},
     "inputWidgets": {},
     "nuid": "c279c88e-20df-4711-8124-1bdac81377af",
     "showTitle": true,
     "tableResultSettingsMap": {},
     "title": "transactions"
    }
   },
   "outputs": [],
   "source": [
    "-- CREATE TABLE IF NOT EXISTS transactions (\n",
    "--     transaction_id INT,\n",
    "--     account_id INT,\n",
    "--     amount DECIMAL(10, 2),\n",
    "--     transaction_date DATE\n",
    "-- );"
   ]
  },
  {
   "cell_type": "code",
   "execution_count": 0,
   "metadata": {
    "application/vnd.databricks.v1+cell": {
     "cellMetadata": {},
     "inputWidgets": {},
     "nuid": "700b9100-51c2-4523-ab9a-cc171a07a20b",
     "showTitle": true,
     "tableResultSettingsMap": {},
     "title": "contact"
    }
   },
   "outputs": [],
   "source": [
    "-- CREATE TABLE IF NOT EXISTS contact (\n",
    "--     contact_id INT,\n",
    "--     account_id INT,\n",
    "--     contact_name STRING,\n",
    "--     contact_email STRING\n",
    "-- );"
   ]
  },
  {
   "cell_type": "code",
   "execution_count": 0,
   "metadata": {
    "application/vnd.databricks.v1+cell": {
     "cellMetadata": {},
     "inputWidgets": {},
     "nuid": "37713593-ca96-442a-b0d0-7952dbc83481",
     "showTitle": false,
     "tableResultSettingsMap": {},
     "title": ""
    }
   },
   "outputs": [],
   "source": [
    "\n",
    "\n",
    "-- INSERT INTO transactions VALUES\n",
    "-- (1, 1, 100.00, '2025-07-01'),\n",
    "-- (2, 2, 200.00, '2025-07-02'),\n",
    "-- (3, 3, 300.00, '2025-07-03'),\n",
    "-- (4, 4, 400.00, '2025-07-04'),\n",
    "-- (5, 5, 500.00, '2025-07-05'),\n",
    "-- (6, 6, 600.00, '2025-07-06'),\n",
    "-- (7, 7, 700.00, '2025-07-07'),\n",
    "-- (8, 8, 800.00, '2025-07-08'),\n",
    "-- (9, 9, 900.00, '2025-07-09'),\n",
    "-- (10, 10, 1000.00, '2025-07-10');\n",
    "\n",
    "\n",
    "\n",
    "-- INSERT INTO contact VALUES\n",
    "-- (1, 1, 'Contact A', 'contactA@example.com'),\n",
    "-- (2, 2, 'Contact B', 'contactB@example.com'),\n",
    "-- (3, 3, 'Contact C', 'contactC@example.com'),\n",
    "-- (4, 4, 'Contact D', 'contactD@example.com'),\n",
    "-- (5, 5, 'Contact E', 'contactE@example.com'),\n",
    "-- (6, 6, 'Contact F', 'contactF@example.com'),\n",
    "-- (7, 7, 'Contact G', 'contactG@example.com'),\n",
    "-- (8, 8, 'Contact H', 'contactH@example.com'),\n",
    "-- (9, 9, 'Contact I', 'contactI@example.com'),\n",
    "-- (10, 10, 'Contact J', 'contactJ@example.com');"
   ]
  }
 ],
 "metadata": {
  "application/vnd.databricks.v1+notebook": {
   "computePreferences": null,
   "dashboards": [],
   "environmentMetadata": {
    "base_environment": "",
    "environment_version": "2"
   },
   "inputWidgetPreferences": null,
   "language": "sql",
   "notebookMetadata": {
    "pythonIndentUnit": 4
   },
   "notebookName": "raw account",
   "widgets": {
    "catalog": {
     "currentValue": "dev",
     "nuid": "ab96f0c7-fbdd-40b3-800b-69a156c334fe",
     "typedWidgetInfo": {
      "autoCreated": false,
      "defaultValue": "",
      "label": "catalog",
      "name": "catalog",
      "options": {
       "validationRegex": null,
       "widgetDisplayType": "Text"
      },
      "parameterDataType": "String"
     },
     "widgetInfo": {
      "defaultValue": "",
      "label": "catalog",
      "name": "catalog",
      "options": {
       "autoCreated": false,
       "validationRegex": null,
       "widgetType": "text"
      },
      "widgetType": "text"
     }
    }
   }
  },
  "language_info": {
   "name": "sql"
  }
 },
 "nbformat": 4,
 "nbformat_minor": 0
}
